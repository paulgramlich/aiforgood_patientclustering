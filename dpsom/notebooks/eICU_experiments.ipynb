{
 "cells": [
  {
   "cell_type": "markdown",
   "metadata": {},
   "source": [
    "# eICU Experiments"
   ]
  },
  {
   "cell_type": "code",
   "execution_count": 1,
   "metadata": {
    "ExecuteTime": {
     "end_time": "2020-02-17T10:29:15.356772Z",
     "start_time": "2020-02-17T10:29:09.839675Z"
    }
   },
   "source": [
    "import tensorflow as tf\n",
    "import numpy as np\n",
    "import h5py\n",
    "from sklearn.model_selection import train_test_split\n",
    "import matplotlib.pyplot as plt\n",
    "import sklearn\n",
    "from sklearn import metrics\n",
    "import seaborn as sns\n",
    "import random"
   ],
   "outputs": []
  },
  {
   "cell_type": "code",
   "execution_count": null,
   "metadata": {},
   "source": [
    "try:\n",
    "    import tensorflow.compat.v1 as tf \n",
    "    tf.disable_v2_behavior()\n",
    "except:\n",
    "    import tensorflow as tf"
   ],
   "outputs": []
  },
  {
   "cell_type": "markdown",
   "metadata": {},
   "source": [
    "Follow Read-me instruction to download the medical data.\n",
    "\n",
    "After having downloaded the data in '../data/eICU_data.csv', upload the data:"
   ]
  },
  {
   "cell_type": "code",
   "execution_count": 3,
   "metadata": {
    "ExecuteTime": {
     "end_time": "2020-02-17T10:29:15.366621Z",
     "start_time": "2020-02-17T10:29:15.359625Z"
    }
   },
   "source": [
    "def get_data(test=True):\n",
    "    hf = h5py.File('../data/eICU_data.csv', 'r')\n",
    "    data_total = np.array(hf.get('x'))\n",
    "    endpoints_total = np.array(hf.get('y'))\n",
    "    hf.close()\n",
    "    data_train, data_val, y_train, endpoints_total_val = train_test_split(data_total[:int(len(data_total) * 0.85)],\n",
    "                                                                          endpoints_total[:int(len(data_total) * 0.85)],\n",
    "                                                                          test_size=0.20,\n",
    "                                                                          random_state=42)\n",
    "    if test:\n",
    "        data_val = data_total[int(len(data_total) * 0.85):]\n",
    "        endpoints_total_val = endpoints_total[int(len(data_total) * 0.85):]\n",
    "    return data_train, data_val, y_train, endpoints_total_val"
   ],
   "outputs": []
  },
  {
   "cell_type": "code",
   "execution_count": 4,
   "metadata": {
    "ExecuteTime": {
     "end_time": "2020-02-17T10:29:15.376274Z",
     "start_time": "2020-02-17T10:29:15.369561Z"
    }
   },
   "source": [
    "def batch_generator(data_train, data_val, endpoints_total_val, batch_size, mode=\"train\"):\n",
    "    while True:\n",
    "        if mode == \"train\":\n",
    "            for i in range(len(data_train) // batch_size):\n",
    "                time_series = data_train[i * batch_size: (i + 1) * batch_size]\n",
    "                yield time_series, i\n",
    "        elif mode == \"val\":\n",
    "            for i in range(len(data_val) // batch_size):\n",
    "                time_series = data_val[i * batch_size: (i + 1) * batch_size]\n",
    "                time_series_endpoint = endpoints_total_val[i * batch_size: (i + 1) * batch_size]\n",
    "                yield time_series, time_series_endpoint, i\n",
    "        else:\n",
    "            raise ValueError(\"The mode has to be in {train, val}\")"
   ],
   "outputs": []
  },
  {
   "cell_type": "markdown",
   "metadata": {},
   "source": [
    "Insert the name of the job in ex_name:"
   ]
  },
  {
   "cell_type": "code",
   "execution_count": 6,
   "metadata": {},
   "source": [
    "ex_name=\"\"\n",
    "#example ex_name=\"hyperopt_LSTM_100_16-16_2020-06-04_d2c5a\""
   ],
   "outputs": []
  },
  {
   "cell_type": "markdown",
   "metadata": {},
   "source": [
    "Get the data:"
   ]
  },
  {
   "cell_type": "code",
   "execution_count": 7,
   "metadata": {
    "ExecuteTime": {
     "end_time": "2020-02-17T10:29:16.663266Z",
     "start_time": "2020-02-17T10:29:15.385146Z"
    }
   },
   "source": [
    "batch_size=128\n",
    "modelpath = \"../models/{}/{}\".format(ex_name, ex_name)\n",
    "data_train, data_val, endpoints_total_train, endpoints_total_val = get_data(test=True)"
   ],
   "outputs": []
  },
  {
   "cell_type": "markdown",
   "metadata": {},
   "source": [
    "## Create heat-maps, trajectories and probability distributions"
   ]
  },
  {
   "cell_type": "code",
   "execution_count": 8,
   "metadata": {
    "ExecuteTime": {
     "end_time": "2020-02-17T10:31:01.048797Z",
     "start_time": "2020-02-17T10:31:01.044565Z"
    }
   },
   "source": [
    "som_dim = [16,16]\n",
    "latent_dim=20"
   ],
   "outputs": []
  },
  {
   "cell_type": "code",
   "execution_count": 9,
   "metadata": {
    "ExecuteTime": {
     "end_time": "2020-02-17T10:29:16.678893Z",
     "start_time": "2020-02-17T10:29:16.670637Z"
    }
   },
   "source": [
    "val_gen = batch_generator(data_train, data_val, endpoints_total_val, 300, mode=\"val\")"
   ],
   "outputs": []
  },
  {
   "cell_type": "code",
   "execution_count": 10,
   "metadata": {
    "ExecuteTime": {
     "end_time": "2020-02-17T10:38:43.859678Z",
     "start_time": "2020-02-17T10:38:38.982605Z"
    }
   },
   "source": [
    "num_batches = len(data_val) // 300\n",
    "tf.reset_default_graph()\n",
    "with tf.Session() as sess:\n",
    "    sess.run(tf.global_variables_initializer())\n",
    "    saver = tf.train.import_meta_graph(modelpath+\".meta\")\n",
    "    saver.restore(sess, modelpath)\n",
    "    graph = tf.get_default_graph()\n",
    "    k = graph.get_tensor_by_name(\"k/k:0\")\n",
    "    z_e = graph.get_tensor_by_name(\"z_e_sample/z_e:0\")\n",
    "    x = graph.get_tensor_by_name(\"inputs/x:0\")\n",
    "    is_training = graph.get_tensor_by_name(\"is_training/is_training:0\")\n",
    "    graph = tf.get_default_graph()\n",
    "    z_e_p = graph.get_tensor_by_name(\"prediction/next_state/input_lstm:0\")\n",
    "    q = graph.get_tensor_by_name(\"q/distribution/q:0\")\n",
    "    embeddings = graph.get_tensor_by_name(\"embeddings/embeddings:0\")\n",
    "    reconstruction = graph.get_tensor_by_name(\"reconstruction_e/x_hat:0\")\n",
    "    \n",
    "    print(\"Evaluation...\")\n",
    "    test_k_all = []\n",
    "    labels_val_all = []\n",
    "    z_e_all=[]\n",
    "    z_q_all = []\n",
    "    qq = []\n",
    "    for i in range(num_batches):\n",
    "            batch_data, batch_labels, ii = next(val_gen)\n",
    "            f_dic = {x: batch_data}\n",
    "            test_k_all.extend(sess.run(k, feed_dict=f_dic))\n",
    "            labels_val_all.extend(batch_labels)\n",
    "            z_q_all.extend(sess.run(q, feed_dict=f_dic))\n",
    "            qq.extend(sess.run(q, feed_dict=f_dic))\n",
    "            z_e_all.extend(sess.run(z_e, feed_dict=f_dic))\n",
    "    labels_val_all = np.array(labels_val_all)\n",
    "    k_all = np.array(test_k_all)\n",
    "    qq = np.array(qq)\n",
    "    labels_val_all = np.reshape(labels_val_all, (-1, labels_val_all.shape[-1]))\n",
    "    NMI_24 = metrics.normalized_mutual_info_score(labels_val_all[:, 3], k_all)\n",
    "    NMI_12 = metrics.normalized_mutual_info_score(labels_val_all[:, 2], k_all)\n",
    "    NMI_6 = metrics.normalized_mutual_info_score(labels_val_all[:, 1], k_all)\n",
    "    NMI_1 = metrics.normalized_mutual_info_score(labels_val_all[:, 0], k_all)\n",
    "    \n",
    "    embb = sess.run(embeddings, feed_dict={x: data_val})"
   ],
   "outputs": []
  },
  {
   "cell_type": "markdown",
   "metadata": {},
   "source": [
    "Get the labels:"
   ]
  },
  {
   "cell_type": "code",
   "execution_count": 11,
   "metadata": {
    "ExecuteTime": {
     "end_time": "2020-02-17T10:29:21.798617Z",
     "start_time": "2020-02-17T10:29:21.782730Z"
    }
   },
   "source": [
    "labels_12 = labels_val_all[:,2]\n",
    "labels_1 = labels_val_all[:,0]\n",
    "labels_6 = labels_val_all[:,1]\n",
    "labels_24 = labels_val_all[:,3]\n",
    "hosp_disc_1 = labels_val_all[:,4]\n",
    "hosp_disc_6 = labels_val_all[:,5]\n",
    "hosp_disc_12 = labels_val_all[:,6]\n",
    "hosp_disc_24 = labels_val_all[:,7]\n",
    "u_disc_1 = labels_val_all[:,8]\n",
    "u_disc_6 = labels_val_all[:,9]\n",
    "u_disc_12 = labels_val_all[:,10]\n",
    "u_disc_24 = labels_val_all[:, 11]\n",
    "labels_1 = labels_1.astype(int)\n",
    "labels_6 = labels_6.astype(int)\n",
    "labels_12 = labels_12.astype(int)\n",
    "labels_24 = labels_24.astype(int)\n",
    "hosp_disc_12 = hosp_disc_12.astype(int)\n",
    "hosp_disc_24 = hosp_disc_24.astype(int)\n",
    "hosp_disc_1 = hosp_disc_1.astype(int)\n",
    "hosp_disc_6 = hosp_disc_6.astype(int)"
   ],
   "outputs": []
  },
  {
   "cell_type": "markdown",
   "metadata": {},
   "source": [
    "### Moran Index"
   ]
  },
  {
   "cell_type": "code",
   "execution_count": 52,
   "metadata": {
    "ExecuteTime": {
     "end_time": "2020-02-17T10:31:11.318739Z",
     "start_time": "2020-02-17T10:31:10.554833Z"
    }
   },
   "source": [
    "sd = som_dim[0]*som_dim[1]\n",
    "mean = np.sum(labels_val_all[:, 0]) / len(labels_val_all[:, 0])\n",
    "ones = np.ones((len(np.reshape(k_all, (-1)))))\n",
    "clust_matr1 = np.zeros(som_dim[0]*som_dim[1])\n",
    "labels= labels_val_all[:, 0]\n",
    "for i in range(som_dim[0]*som_dim[1]):\n",
    "    dd = np.sum(ones[np.where(np.reshape(k_all, (-1))==i)])\n",
    "    if dd == 0:\n",
    "        s1 = 0\n",
    "    else:\n",
    "        s1 = np.sum(labels[np.where(np.reshape(k_all, (-1))==i)]) / np.sum(ones[np.where(np.reshape(k_all, (-1))==i)])\n",
    "    clust_matr1[i] = s1\n",
    "\n",
    "k = np.arange(0,sd)\n",
    "k1 = k // som_dim[0]\n",
    "k2 = k % som_dim[0]\n",
    "W = np.zeros((sd,sd))\n",
    "for i in range(sd):\n",
    "    for j in range(sd):\n",
    "        d1 = np.abs((k1[i] - k1[j]))\n",
    "        d2 = np.abs((k2[i] - k2[j]))\n",
    "        d1 = min(som_dim[0]-d1, d1)\n",
    "        d2 = min(som_dim[0]-d2, d2)\n",
    "        W[i,j] = np.exp(-(d1+d2))\n",
    "        if i==j:\n",
    "            W[i,j]=0\n",
    "M = 0\n",
    "N_n = 0\n",
    "for i in range(sd):\n",
    "    for j in range(sd):\n",
    "        M += (clust_matr1[i] -mean)*(clust_matr1[j] -mean)* W[i,j]\n",
    "for i in range(sd):\n",
    "    N_n += (clust_matr1[i]-mean)**2\n",
    "W_n = np.sum(W)\n",
    "I = M * sd / (N_n*W_n)"
   ],
   "outputs": []
  },
  {
   "cell_type": "code",
   "execution_count": null,
   "metadata": {},
   "source": [
    "print(I)"
   ],
   "outputs": []
  },
  {
   "cell_type": "markdown",
   "metadata": {},
   "source": [
    "### APACHE score heatmap:"
   ]
  },
  {
   "cell_type": "code",
   "execution_count": 9,
   "metadata": {},
   "source": [
    "labels = labels_1\n",
    "f = plt.figure(figsize=(3,3))\n",
    "ones = np.ones((len(np.reshape(k_all, (-1)))))\n",
    "clust_matr1 = np.zeros(som_dim[0]*som_dim[1])\n",
    "clust_matr2 = np.zeros(som_dim[0]*som_dim[1])\n",
    "for i in range(som_dim[0]*som_dim[1]):\n",
    "    s1 = np.sum(labels[np.where(np.reshape(k_all, (-1))==i)]) / np.sum(ones[np.where(np.reshape(k_all, (-1))==i)])\n",
    "    clust_matr1[i] = s1\n",
    "clust_matr1 = np.reshape(clust_matr1, (som_dim[0],som_dim[1]))\n",
    "ax = sns.heatmap(clust_matr1, cmap=\"YlGnBu\")\n",
    "plt.show()"
   ],
   "outputs": []
  },
  {
   "cell_type": "markdown",
   "metadata": {},
   "source": [
    "### Trajectories"
   ]
  },
  {
   "cell_type": "code",
   "execution_count": 34,
   "metadata": {
    "ExecuteTime": {
     "end_time": "2020-02-17T10:34:29.633148Z",
     "start_time": "2020-02-17T10:34:29.603935Z"
    }
   },
   "source": [
    "T = []\n",
    "S = []\n",
    "for i in range(1000):\n",
    "    h = np.reshape(u_disc_6, (-1,72))\n",
    "    if np.max(h[i]) == 1:\n",
    "        T.append(i)\n",
    "    else:\n",
    "        S.append(i)"
   ],
   "outputs": []
  },
  {
   "cell_type": "code",
   "execution_count": 38,
   "metadata": {
    "ExecuteTime": {
     "end_time": "2020-02-17T10:35:43.671743Z",
     "start_time": "2020-02-17T10:35:43.663623Z"
    }
   },
   "source": [
    "ind_r = np.random.random_integers(0, 50, 10)\n",
    "ind_s = np.random.random_integers(0, 50, 10)\n",
    "T = np.array(T)\n",
    "S = np.array(S)\n",
    "a = np.concatenate([S[ind_s], T[ind_r]])"
   ],
   "outputs": []
  },
  {
   "cell_type": "code",
   "execution_count": 39,
   "metadata": {
    "ExecuteTime": {
     "end_time": "2020-02-17T10:34:59.544789Z",
     "start_time": "2020-02-17T10:34:59.537095Z"
    }
   },
   "source": [
    "k_all.shape"
   ],
   "outputs": []
  },
  {
   "cell_type": "code",
   "execution_count": null,
   "metadata": {},
   "source": [
    "labels = labels_1\n",
    "it = 0\n",
    "k_all = np.reshape(k_all, (-1,72))\n",
    "fig, ax = plt.subplots(5, 4, figsize=(50,43)) \n",
    "ones = np.ones((len(np.reshape(k_all, (-1)))))\n",
    "clust_matr1 = np.zeros(som_dim[0]*som_dim[1])\n",
    "clust_matr2 = np.zeros(som_dim[0]*som_dim[1])\n",
    "for i in range(som_dim[0]*som_dim[1]):\n",
    "    s1 = np.sum(labels[np.where(np.reshape(k_all, (-1)) == i)]) / np.sum(ones[np.where(np.reshape(k_all, (-1))==i)])\n",
    "    clust_matr1[i] = s1\n",
    "clust_matr1 = np.reshape(clust_matr1, (som_dim[0],som_dim[1]))\n",
    "for t in a:\n",
    "    #fig, ax = plt.subplots(figsize=(10,7.5)) \n",
    "    if it > 9:\n",
    "        c = \"r\"\n",
    "        #print(t)\n",
    "    else:\n",
    "        c = \"g\"\n",
    "    cc = it % 4\n",
    "    rr = it // 4\n",
    "    g = sns.heatmap(clust_matr1, cmap=\"YlGnBu\",ax=ax[rr][cc])\n",
    "    k_1 = k_all[t] // som_dim[1]\n",
    "    k_2 = k_all[t] % som_dim[1]\n",
    "    ax[rr][cc].plot(k_2[:] + 0.5, k_1[:] + 0.5, color=c, linewidth=4)\n",
    "    ax[rr][cc].scatter(k_2[0] + 0.5, k_1[0] + 0.5, color=c, s=200, label='Start')\n",
    "    ax[rr][cc].scatter(k_2[1:-1] + 0.5, k_1[1:-1] + 0.5, color=c, linewidth=5, marker='.')\n",
    "    ax[rr][cc].scatter(k_2[-1] + 0.5, k_1[-1] + 0.5, color=c, s=500, linewidth=4, marker='x', label='End')\n",
    "    ax[rr][cc].legend(loc=2, prop={'size': 20})\n",
    "    it +=1\n",
    "plt.show()"
   ],
   "outputs": []
  },
  {
   "cell_type": "markdown",
   "metadata": {},
   "source": [
    "Probability distribution over trajectory:"
   ]
  },
  {
   "cell_type": "code",
   "execution_count": 82,
   "metadata": {
    "ExecuteTime": {
     "end_time": "2020-02-17T10:39:00.594160Z",
     "start_time": "2020-02-17T10:39:00.586726Z"
    }
   },
   "source": [
    "qq.shape"
   ],
   "outputs": []
  },
  {
   "cell_type": "code",
   "execution_count": 76,
   "metadata": {},
   "source": [
    "prob_q = np.reshape(qq, (-1, 72, som_dim[0]*som_dim[1])) \n",
    "i_g = np.random.randint(0, 50) #Randomly sampled patient\n",
    "i_g = S[i_g]\n",
    "i_r = np.random.randint(0, 50) #Randomly sampled patient\n",
    "i_r = T[i_r]\n",
    "t_g = [0, 20, 70]\n",
    "t_r = [0, 20, 70]\n",
    "fig, ax = plt.subplots(1, 4, figsize=(50,10))\n",
    "k_all = np.reshape(k_all, (-1,72))\n",
    "\n",
    "ones = np.ones((len(np.reshape(k_all, (-1)))))\n",
    "clust_matr1 = np.zeros(som_dim[0]*som_dim[1])\n",
    "clust_matr2 = np.zeros(som_dim[0]*som_dim[1])\n",
    "for i in range(som_dim[0]*som_dim[1]):\n",
    "    s1 = np.sum(labels[np.where(np.reshape(k_all, (-1)) == i)]) / np.sum(ones[np.where(np.reshape(k_all, (-1))==i)])\n",
    "    clust_matr1[i] = s1\n",
    "clust_matr1 = np.reshape(clust_matr1, (som_dim[0],som_dim[1]))\n",
    "g = sns.heatmap(clust_matr1, cmap=\"YlGnBu\",ax=ax[0], square=True)\n",
    "c=\"green\"\n",
    "k_1 = k_all[i_g] // som_dim[1]\n",
    "k_2 = k_all[i_g] % som_dim[1]\n",
    "ax[0].plot(k_2[:] + 0.5, k_1[:] + 0.5, color=c, linewidth=4)\n",
    "ax[0].scatter(k_2[0] + 0.5, k_1[0] + 0.5, color=c, s=200, label='Start')\n",
    "ax[0].scatter(k_2[1:-1] + 0.5, k_1[1:-1] + 0.5, color=c, linewidth=5, marker='.')\n",
    "ax[0].scatter(k_2[-1] + 0.5, k_1[-1] + 0.5, color=c, s=500, linewidth=4, marker='x', label='End')\n",
    "\n",
    "c=\"red\"\n",
    "k_1 = k_all[i_r] // som_dim[1]\n",
    "k_2 = k_all[i_r] % som_dim[1]\n",
    "ax[0].plot(k_2[:] + 0.5, k_1[:] + 0.5, color=c, linewidth=4)\n",
    "ax[0].scatter(k_2[0] + 0.5, k_1[0] + 0.5, color=c, s=200, label='Start')\n",
    "ax[0].scatter(k_2[1:-1] + 0.5, k_1[1:-1] + 0.5, color=c, linewidth=5, marker='.')\n",
    "ax[0].scatter(k_2[-1] + 0.5, k_1[-1] + 0.5, color=c, s=500, linewidth=4, marker='x', label='End')\n",
    "ax[0].legend(loc=2, prop={'size': 20})\n",
    "\n",
    "\n",
    "for it in range(3):\n",
    "    cc = it + 1\n",
    "    k_1 = k_all[i_g] // som_dim[1]\n",
    "    k_2 = k_all[i_g] % som_dim[1]\n",
    "    t = t_g[it]\n",
    "    aa = np.copy(prob_q[i_g, t])\n",
    "    aa = aa /1.5\n",
    "    ccb=False\n",
    "    if it==2:\n",
    "        ccb=True\n",
    "    g1 = sns.heatmap(np.reshape(aa+prob_q[i_r, t_r[it]], (som_dim[0],som_dim[1])), cmap='Blues', alpha=1,  ax=ax[cc], cbar=ccb, xticklabels=False, yticklabels=False, square=True)\n",
    "    ax[cc].plot(k_2[:t+1] + 0.5, k_1[:t+1] + 0.5, color=\"green\", linewidth=7)\n",
    "    ax[cc].scatter(k_2[0] + 0.5, k_1[0] + 0.5, color=\"green\", s=800)\n",
    "    \n",
    "    k_1 = k_all[i_r] // som_dim[1]\n",
    "    k_2 = k_all[i_r] % som_dim[1]\n",
    "    t = t_r[it]\n",
    "    ax[cc].plot(k_2[:t+1] + 0.5, k_1[:t+1] + 0.5, color=\"red\", linewidth=7)\n",
    "    ax[cc].scatter(k_2[0] + 0.5, k_1[0] + 0.5, color=\"red\", s=800)\n",
    "\n",
    "plt.show()"
   ],
   "outputs": []
  },
  {
   "cell_type": "markdown",
   "metadata": {
    "ExecuteTime": {
     "end_time": "2019-05-20T15:59:18.314040Z",
     "start_time": "2019-05-20T15:59:18.309526Z"
    }
   },
   "source": [
    "## Unrolling future time-steps and prediction"
   ]
  },
  {
   "cell_type": "code",
   "execution_count": null,
   "metadata": {
    "ExecuteTime": {
     "end_time": "2020-02-17T10:36:41.833543Z",
     "start_time": "2020-02-17T10:36:41.823206Z"
    }
   },
   "source": [
    "def z_dist_flat(z_e, embeddings):\n",
    "    \"\"\"Computes the distances between the encodings and the embeddings.\"\"\"\n",
    "    emb = np.reshape(embeddings, (som_dim[0]*som_dim[1], -1))\n",
    "    z = np.reshape(z_e, (z_e.shape[0], 1, latent_dim))\n",
    "    z = np.tile(z, [1,som_dim[0]*som_dim[1], 1])\n",
    "    z_dist = np.square(z-emb)\n",
    "    z_dist_red = np.sum(z_dist, axis=-1)\n",
    "    return z_dist_red"
   ],
   "outputs": []
  },
  {
   "cell_type": "code",
   "execution_count": null,
   "metadata": {
    "ExecuteTime": {
     "end_time": "2020-02-17T10:36:41.983821Z",
     "start_time": "2020-02-17T10:36:41.978583Z"
    }
   },
   "source": [
    "val_gen = batch_generator(data_train, data_val, endpoints_total_val, 300, mode=\"val\")"
   ],
   "outputs": []
  },
  {
   "cell_type": "code",
   "execution_count": null,
   "metadata": {
    "ExecuteTime": {
     "end_time": "2020-02-17T10:37:20.174178Z",
     "start_time": "2020-02-17T10:37:11.780587Z"
    },
    "scrolled": true
   },
   "source": [
    "tf.reset_default_graph()\n",
    "num_batches = len(data_val) // 300\n",
    "latent_dim = 20\n",
    "num_pred = 6\n",
    "som = 16*16\n",
    "max_n_step = 72\n",
    "with tf.Session() as sess:\n",
    "    sess.run(tf.global_variables_initializer())\n",
    "    saver = tf.train.import_meta_graph(modelpath+\".meta\")\n",
    "    saver.restore(sess, modelpath)\n",
    "    graph = tf.get_default_graph()\n",
    "    k = graph.get_tensor_by_name(\"k/k:0\")\n",
    "    z_e = graph.get_tensor_by_name(\"z_e_sample/z_e:0\")\n",
    "    next_z_e = graph.get_tensor_by_name(\"prediction/next_z_e:0\")\n",
    "    x = graph.get_tensor_by_name(\"inputs/x:0\")\n",
    "    is_training = graph.get_tensor_by_name(\"is_training/is_training:0\")\n",
    "    graph = tf.get_default_graph()\n",
    "    init_1 = graph.get_tensor_by_name(\"prediction/next_state/init_state:0\")\n",
    "    z_e_p = graph.get_tensor_by_name(\"prediction/next_state/input_lstm:0\")\n",
    "    state1 = graph.get_tensor_by_name(\"prediction/next_state/next_state:0\")\n",
    "    q = graph.get_tensor_by_name(\"q/distribution/q:0\")\n",
    "    embeddings = graph.get_tensor_by_name(\"embeddings/embeddings:0\")\n",
    "    z_p = graph.get_tensor_by_name('reconstruction_e/decoder/z_e:0')\n",
    "    reconstruction = graph.get_tensor_by_name(\"reconstruction_e/x_hat:0\")\n",
    "    \n",
    "    print(\"Evaluation...\")\n",
    "    training_dic = {is_training: True, z_e_p: np.zeros((max_n_step * len(data_val), latent_dim)),\n",
    "                    init_1: np.zeros((2, batch_size, 100)), z_p: np.zeros((max_n_step * len(data_val), latent_dim))}\n",
    "    k_all = []\n",
    "    z_e_all=[]\n",
    "    z_q_all = []\n",
    "    qq = []\n",
    "    x_rec = []\n",
    "    for i in range(num_batches):\n",
    "            batch_data, batch_labels, ii = next(val_gen)\n",
    "            f_dic = {x: batch_data}\n",
    "            k_all.extend(sess.run(k, feed_dict=f_dic))\n",
    "            z_q_all.extend(sess.run(q, feed_dict=f_dic))\n",
    "            z_e_all.extend(sess.run(z_e, feed_dict=f_dic))\n",
    "            qq.extend(sess.run(q, feed_dict=f_dic))\n",
    "            f_dic.update(training_dic)\n",
    "            x_rec.extend(sess.run(reconstruction, feed_dict=f_dic))\n",
    "    z_e_all = np.array(z_e_all)\n",
    "    k_all = np.array(k_all)\n",
    "    qq = np.array(qq)\n",
    "    x_rec = np.array(x_rec)\n",
    "    z_e_all = z_e_all.reshape((-1, max_n_step, latent_dim))\n",
    "    k_all = k_all.reshape((-1, max_n_step))\n",
    "    \n",
    "    t = 72-num_pred\n",
    "    \n",
    "    embeddings = sess.run(embeddings, feed_dict={x: data_val[:, :t, :]})\n",
    "    embeddings = np.reshape(embeddings,(-1, latent_dim))\n",
    "    \n",
    "    z_e_o = z_e_all[:, :t, :]\n",
    "    k_o = k_all[:, :t]\n",
    "    k_eval=[]\n",
    "    next_z_e_o = []\n",
    "    state1_o =[]\n",
    "    for i in range(num_batches):\n",
    "        batch_data, batch_labels, ii = next(val_gen)\n",
    "        batch_data=batch_data[:, :t, :]\n",
    "        f_dic = {x: batch_data}\n",
    "        f_dic.update(training_dic)\n",
    "        next_z_e_o.extend(sess.run(next_z_e, feed_dict=f_dic))\n",
    "        if i == 0:\n",
    "            state1_o = sess.run(state1, feed_dict=f_dic)\n",
    "        else:\n",
    "            state1_o = np.concatenate([state1_o, sess.run(state1, feed_dict=f_dic)], axis=1)\n",
    "    next_z_e_o = np.array(next_z_e_o)\n",
    "    state1_o = np.array(state1_o)\n",
    "    \n",
    "    next_z_e_o_all = np.reshape(next_z_e_o[:, -1, :], (-1,1,latent_dim))\n",
    "    next_z_e_o = next_z_e_o[:, -1, :]\n",
    "    k_next = np.argmin(z_dist_flat(next_z_e_o, embeddings), axis=-1)\n",
    "    k_o = np.concatenate([k_o, np.expand_dims(k_next,1)], axis=1)\n",
    "    z_e_o = np.concatenate([z_e_o, np.expand_dims(next_z_e_o, 1)], axis=1)\n",
    "    f_dic = {x: np.zeros((len(data_val),1, 98)), is_training: False, z_e_p: np.zeros((1 * len(data_val), latent_dim)),\n",
    "             z_p: next_z_e_o, init_1: np.zeros((2, batch_size, 100))}\n",
    "    x_pred_hat = np.reshape(sess.run(reconstruction, feed_dict=f_dic), (-1, 1, 98))\n",
    "    \n",
    "    for i in range(num_pred-1):\n",
    "        print(i)\n",
    "        inp = data_val[:1500, (t + i), :]\n",
    "        f_dic = {x: np.reshape(inp, (inp.shape[0],1,inp.shape[1]))}\n",
    "        val_dic = {is_training: False, z_e_p: next_z_e_o, init_1: state1_o, z_p: np.zeros((max_n_step * len(inp), latent_dim))}\n",
    "        f_dic.update(val_dic)\n",
    "        next_z_e_o = sess.run(next_z_e, feed_dict=f_dic)\n",
    "        state1_o = sess.run(state1, feed_dict=f_dic)\n",
    "        next_z_e_o_all = np.concatenate([next_z_e_o_all, next_z_e_o], axis=1)\n",
    "        k_next = np.argmin(z_dist_flat(next_z_e_o, embeddings), axis=-1)\n",
    "        k_o = np.concatenate([k_o, np.expand_dims(k_next,1)], axis=1)\n",
    "        z_e_o = np.concatenate([z_e_o, next_z_e_o], axis=1)\n",
    "        next_z_e_o = np.reshape(next_z_e_o, (-1, latent_dim))\n",
    "        f_dic = {x: np.zeros((len(data_val),1, 98)), is_training: False, z_e_p: np.zeros((max_n_step * len(data_val), latent_dim)),\n",
    "             z_p: next_z_e_o, init_1: np.zeros((2, batch_size, 100))}\n",
    "        final_x = sess.run(reconstruction, feed_dict=f_dic)\n",
    "        x_pred_hat = np.concatenate([x_pred_hat, np.reshape(final_x, (-1, 1, 98))], axis = 1)\n",
    "    \n",
    "    f_dic = {x: np.zeros((1500,1, 98)), is_training: False, z_e_p: np.zeros((max_n_step * 1500, latent_dim)),\n",
    "             z_p: z_e_all[:, t-1, :], init_1: np.zeros((2, batch_size, 100))}\n",
    "    final_x = sess.run(reconstruction, feed_dict=f_dic)"
   ],
   "outputs": []
  },
  {
   "cell_type": "code",
   "execution_count": null,
   "metadata": {
    "ExecuteTime": {
     "end_time": "2020-02-17T10:37:20.241207Z",
     "start_time": "2020-02-17T10:37:20.196444Z"
    }
   },
   "source": [
    "sklearn.metrics.mean_squared_error(np.reshape(x_pred_hat, (-1, 98)), np.reshape(data_val[:1500, -num_pred:], (-1, 98)))"
   ],
   "outputs": []
  },
  {
   "cell_type": "markdown",
   "metadata": {},
   "source": [
    "Accuracy of unrolled state:"
   ]
  },
  {
   "cell_type": "code",
   "execution_count": null,
   "metadata": {
    "ExecuteTime": {
     "end_time": "2020-02-17T10:37:20.332633Z",
     "start_time": "2020-02-17T10:37:20.246520Z"
    }
   },
   "source": [
    "k_true = np.reshape(k_all[:, -num_pred:], (-1))\n",
    "k_pred = np.reshape(k_o[:, -num_pred:], (-1))\n",
    "tot = 0\n",
    "acc = 0\n",
    "for i in range(len(k_true)):\n",
    "    tot += 1\n",
    "    if k_true[i] == k_pred[i]:\n",
    "        acc += 1\n",
    "acc = acc / tot\n",
    "acc"
   ],
   "outputs": []
  },
  {
   "cell_type": "markdown",
   "metadata": {},
   "source": [
    "# LSTM baseline"
   ]
  },
  {
   "cell_type": "code",
   "execution_count": null,
   "metadata": {},
   "source": [
    "from math import sqrt\n",
    "from numpy import split\n",
    "from numpy import array\n",
    "from pandas import read_csv\n",
    "from sklearn.metrics import mean_squared_error\n",
    "from matplotlib import pyplot\n",
    "import tensorflow as tf\n",
    "from tensorflow.keras.models import Sequential\n",
    "from tensorflow.keras.layers import Dense\n",
    "from tensorflow.keras.layers import Flatten\n",
    "from tensorflow.keras.layers import LSTM\n",
    "\n",
    "data_train, data_val, endpoints_total_train, endpoints_total_val = get_data(test=True)\n",
    "labels_train= np.concatenate((data_train[:, 1:], np.reshape(data_train[:, -1], (-1,1, 98))), axis=1)\n",
    "\n",
    "model = Sequential()\n",
    "model.add(LSTM(98, activation='relu', input_shape=(None, 98), return_sequences=True))\n",
    "model.compile(loss='mse', optimizer='adam')\n",
    "# fit network\n",
    "model.fit(data_train, labels_train, epochs=100, batch_size=300, verbose=0)\n",
    "\n",
    "test_data = data_val[:, :-6]\n",
    "for i in range(6):\n",
    "    a = model.predict(test_data)\n",
    "    test_data = np.concatenate((test_data, np.reshape(a[:,-1,:], (-1, 1, 98))), axis=1)\n",
    "\n",
    "mean_squared_error(np.reshape(test_data[:,-6:],(-1)), np.reshape(data_val[:,-6:],(-1)))"
   ],
   "outputs": []
  }
 ],
 "metadata": {
  "kernelspec": {
   "display_name": "mt",
   "language": "python",
   "name": "mt"
  },
  "language_info": {
   "codemirror_mode": {
    "name": "ipython",
    "version": 3
   },
   "file_extension": ".py",
   "mimetype": "text/x-python",
   "name": "python",
   "nbconvert_exporter": "python",
   "pygments_lexer": "ipython3",
   "version": "3.8.3"
  }
 },
 "nbformat": 4,
 "nbformat_minor": 2
}
