{
 "cells": [
  {
   "cell_type": "markdown",
   "metadata": {},
   "source": [
    "# Centroids Reconstruction on MNIST / Fashion MNIST datasets"
   ]
  },
  {
   "cell_type": "code",
   "execution_count": 1,
   "metadata": {
    "ExecuteTime": {
     "end_time": "2020-02-17T10:05:42.546495Z",
     "start_time": "2020-02-17T10:05:42.540829Z"
    }
   },
   "source": [
    "import tensorflow as tf\n",
    "from sklearn.model_selection import train_test_split\n",
    "import numpy as np\n",
    "import matplotlib.pyplot as plt\n",
    "import seaborn as sns\n",
    "from sklearn import metrics"
   ],
   "outputs": []
  },
  {
   "cell_type": "code",
   "execution_count": null,
   "metadata": {},
   "source": [
    "try:\n",
    "    import tensorflow.compat.v1 as tf \n",
    "    tf.disable_v2_behavior()\n",
    "except:\n",
    "    import tensorflow as tf"
   ],
   "outputs": []
  },
  {
   "cell_type": "markdown",
   "metadata": {},
   "source": [
    "If MNIST dataset is used, run:"
   ]
  },
  {
   "cell_type": "code",
   "execution_count": 3,
   "metadata": {
    "ExecuteTime": {
     "end_time": "2020-02-17T10:04:27.462854Z",
     "start_time": "2020-02-17T10:04:27.021165Z"
    }
   },
   "source": [
    "mnist = tf.keras.datasets.mnist.load_data(path='mnist.npz')"
   ],
   "outputs": []
  },
  {
   "cell_type": "markdown",
   "metadata": {},
   "source": [
    "Else if Fashion MNIST is used, run:"
   ]
  },
  {
   "cell_type": "code",
   "execution_count": 25,
   "metadata": {
    "ExecuteTime": {
     "end_time": "2019-09-30T13:30:25.276616Z",
     "start_time": "2019-09-30T13:30:24.748652Z"
    }
   },
   "source": [
    "mnist = tf.keras.datasets.fashion_mnist.load_data()"
   ],
   "outputs": []
  },
  {
   "cell_type": "markdown",
   "metadata": {},
   "source": [
    "Divide the data into test set and training set:"
   ]
  },
  {
   "cell_type": "code",
   "execution_count": 4,
   "metadata": {
    "ExecuteTime": {
     "end_time": "2020-02-17T10:04:28.247918Z",
     "start_time": "2020-02-17T10:04:27.465696Z"
    }
   },
   "source": [
    "data_total = np.reshape(mnist[0][0], [-1,28*28])\n",
    "maxx = np.reshape(np.amax(data_total, axis = -1), [-1,1])\n",
    "print(maxx.shape)\n",
    "data_total = np.reshape(data_total/maxx, [-1,28,28,1])\n",
    "labels_total = mnist[0][1]\n",
    "data_train, data_val, labels_train, labels_val = train_test_split(data_total, labels_total, test_size = 0.25, random_state = 42)\n",
    "data_test = np.reshape(mnist[1][0], [-1,28*28])\n",
    "maxx = np.reshape(np.amax(data_test, axis = -1), [-1,1])\n",
    "data_test = np.reshape(data_test/maxx, [-1,28,28,1])\n",
    "data_test.shape"
   ],
   "outputs": []
  },
  {
   "cell_type": "markdown",
   "metadata": {},
   "source": [
    "Here we use test set:"
   ]
  },
  {
   "cell_type": "code",
   "execution_count": 5,
   "metadata": {
    "ExecuteTime": {
     "end_time": "2020-02-17T10:04:28.260910Z",
     "start_time": "2020-02-17T10:04:28.250766Z"
    }
   },
   "source": [
    "data_val=data_test\n",
    "labels_val=mnist[1][1]"
   ],
   "outputs": []
  },
  {
   "cell_type": "code",
   "execution_count": 7,
   "metadata": {},
   "source": [
    "data_test.shape"
   ],
   "outputs": []
  },
  {
   "cell_type": "markdown",
   "metadata": {},
   "source": [
    "Insert the name of the trained model:"
   ]
  },
  {
   "cell_type": "code",
   "execution_count": 12,
   "metadata": {},
   "source": [
    "ex_name=\"\"\n",
    "#example ex_name=\"hyperopt_100_8-8_2020-06-02_68d06\""
   ],
   "outputs": []
  },
  {
   "cell_type": "markdown",
   "metadata": {},
   "source": [
    "Create model path:"
   ]
  },
  {
   "cell_type": "code",
   "execution_count": 71,
   "metadata": {
    "ExecuteTime": {
     "end_time": "2020-02-17T10:04:28.856510Z",
     "start_time": "2020-02-17T10:04:28.559422Z"
    }
   },
   "source": [
    "modelpath = \"../models/{}/{}.ckpt\".format(ex_name, ex_name)\n",
    "som_dim=[8,8]"
   ],
   "outputs": []
  },
  {
   "cell_type": "markdown",
   "metadata": {},
   "source": [
    "Run the trained model on test set:"
   ]
  },
  {
   "cell_type": "code",
   "execution_count": 72,
   "metadata": {
    "ExecuteTime": {
     "end_time": "2020-02-17T10:05:06.836544Z",
     "start_time": "2020-02-17T10:04:28.860368Z"
    },
    "scrolled": true
   },
   "source": [
    "tf.reset_default_graph()\n",
    "with tf.Session() as sess:\n",
    "    sess.run(tf.global_variables_initializer())\n",
    "    saver = tf.train.import_meta_graph(modelpath+\".meta\")\n",
    "    saver.restore(sess, modelpath)\n",
    "    graph = tf.get_default_graph()\n",
    "    is_t = graph.get_tensor_by_name(\"is_training/is_training:0\")\n",
    "    z_p = graph.get_tensor_by_name(\"reconstruction_e/decoder/z_e:0\")\n",
    "    x_hat = graph.get_tensor_by_name(\"reconstruction_e/decoder/x_hat:0\")\n",
    "    k = graph.get_tensor_by_name(\"k/k:0\")\n",
    "    z_q = graph.get_tensor_by_name(\"z_q/z_q:0\")\n",
    "    z_e = graph.get_tensor_by_name(\"sample_z_e/z_e:0\")\n",
    "    x = graph.get_tensor_by_name(\"inputs/x:0\")\n",
    "    q = graph.get_tensor_by_name(\"q/distribution/q:0\")\n",
    "    embeddings = graph.get_tensor_by_name(\"embeddings/embeddings:0\")\n",
    "\n",
    "    k_all = []\n",
    "    test_rec_all = []\n",
    "    test_mse_all = []\n",
    "    labels_val_all = []\n",
    "    z_q_all = []\n",
    "    z_e_all = []\n",
    "    print(\"Evaluation...\")\n",
    "    \n",
    "    z_q_all = sess.run(z_q, feed_dict={x: data_val})\n",
    "    q = sess.run(q, feed_dict={x:data_val})\n",
    "    z_e_all = sess.run(z_e, feed_dict={x: data_val})\n",
    "    k_all = sess.run(k, feed_dict={x: data_val})\n",
    "    embeddings_e = sess.run(embeddings, feed_dict={x: data_val})\n",
    "    x_hat_all = np.zeros((som_dim[0],som_dim[1],28,28))\n",
    "    #for i in range(som_dim[0]):\n",
    "    #    for j in range(som_dim[1]):\n",
    "    #        x_hat_o = sess.run(tf.sigmoid(x_hat), feed_dict={is_t: False, x: np.zeros((1, 28,28,1)), z_p: np.expand_dims(embeddings_e[i,j], 0)})\n",
    "     #       x_hat_all[i,j] = np.reshape(x_hat_o, (28,28))"
   ],
   "outputs": []
  },
  {
   "cell_type": "markdown",
   "metadata": {},
   "source": [
    "### Heat-maps:"
   ]
  },
  {
   "cell_type": "code",
   "execution_count": 15,
   "metadata": {},
   "source": [
    "labels = labels_val\n",
    "ones = np.ones((len(np.reshape(k_all, (-1)))))\n",
    "clust_matr1 = np.zeros(som_dim[0]*som_dim[1])\n",
    "for i in range(som_dim[0]*som_dim[1]):\n",
    "    s1 = np.sum(labels[np.where(np.reshape(k_all, (-1))==i)]) / np.sum(ones[np.where(np.reshape(k_all, (-1))==i)])\n",
    "    clust_matr1[i] = s1\n",
    "clust_matr1 = np.reshape(clust_matr1, (som_dim[0],som_dim[1]))\n",
    "ax = sns.heatmap(clust_matr1, cmap=\"YlGnBu\", vmin=0,vmax=9, annot=True, fmt=\".0f\")\n",
    "plt.show()"
   ],
   "outputs": []
  },
  {
   "cell_type": "markdown",
   "metadata": {},
   "source": [
    "### Reconstructions:"
   ]
  },
  {
   "cell_type": "code",
   "execution_count": 16,
   "metadata": {},
   "source": [
    "fig, axes = plt.subplots(8, 8, figsize=(20,20))\n",
    "for i in range(8):\n",
    "    for j in range(8):\n",
    "        axes[i,j].imshow(x_hat_all[i,j], cmap='gray')"
   ],
   "outputs": []
  }
 ],
 "metadata": {
  "kernelspec": {
   "display_name": "mt1",
   "language": "python",
   "name": "mt1"
  },
  "language_info": {
   "codemirror_mode": {
    "name": "ipython",
    "version": 3
   },
   "file_extension": ".py",
   "mimetype": "text/x-python",
   "name": "python",
   "nbconvert_exporter": "python",
   "pygments_lexer": "ipython3",
   "version": "3.8.3"
  }
 },
 "nbformat": 4,
 "nbformat_minor": 2
}
